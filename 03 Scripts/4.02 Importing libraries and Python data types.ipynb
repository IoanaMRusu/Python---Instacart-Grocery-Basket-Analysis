{
 "cells": [
  {
   "cell_type": "markdown",
   "id": "c7d3f896",
   "metadata": {},
   "source": [
    "#01. Importing Libraries"
   ]
  },
  {
   "cell_type": "code",
   "execution_count": 1,
   "id": "6e1bf160",
   "metadata": {},
   "outputs": [],
   "source": [
    "#Import libraries\n",
    "import pandas as pd\n",
    "import numpy as np\n",
    "import os"
   ]
  },
  {
   "cell_type": "markdown",
   "id": "be3f7363",
   "metadata": {},
   "source": [
    "#02. Python Data Types"
   ]
  },
  {
   "cell_type": "code",
   "execution_count": 2,
   "id": "b88e9d24",
   "metadata": {},
   "outputs": [
    {
     "data": {
      "text/plain": [
       "100"
      ]
     },
     "execution_count": 2,
     "metadata": {},
     "output_type": "execute_result"
    }
   ],
   "source": [
    "25 + 50 + 25"
   ]
  },
  {
   "cell_type": "code",
   "execution_count": 3,
   "id": "f67f6ee7",
   "metadata": {},
   "outputs": [
    {
     "data": {
      "text/plain": [
       "100"
      ]
     },
     "execution_count": 3,
     "metadata": {},
     "output_type": "execute_result"
    }
   ],
   "source": [
    "200 - 100"
   ]
  },
  {
   "cell_type": "code",
   "execution_count": 4,
   "id": "f8482f8f",
   "metadata": {},
   "outputs": [
    {
     "data": {
      "text/plain": [
       "100"
      ]
     },
     "execution_count": 4,
     "metadata": {},
     "output_type": "execute_result"
    }
   ],
   "source": [
    "70 + 30"
   ]
  },
  {
   "cell_type": "code",
   "execution_count": 5,
   "id": "97acf5f5",
   "metadata": {},
   "outputs": [],
   "source": [
    "x = 10.91"
   ]
  },
  {
   "cell_type": "code",
   "execution_count": 6,
   "id": "d8351734",
   "metadata": {},
   "outputs": [],
   "source": [
    "y = 2.5"
   ]
  },
  {
   "cell_type": "code",
   "execution_count": 7,
   "id": "f4567c19",
   "metadata": {},
   "outputs": [
    {
     "data": {
      "text/plain": [
       "4.364"
      ]
     },
     "execution_count": 7,
     "metadata": {},
     "output_type": "execute_result"
    }
   ],
   "source": [
    "x/y"
   ]
  },
  {
   "cell_type": "code",
   "execution_count": 8,
   "id": "e56b41ce",
   "metadata": {},
   "outputs": [],
   "source": [
    "a = 'Port'"
   ]
  },
  {
   "cell_type": "code",
   "execution_count": 9,
   "id": "b34335a0",
   "metadata": {},
   "outputs": [],
   "source": [
    "b = 'land'"
   ]
  },
  {
   "cell_type": "code",
   "execution_count": 10,
   "id": "c0f4e493",
   "metadata": {},
   "outputs": [
    {
     "data": {
      "text/plain": [
       "'Portland'"
      ]
     },
     "execution_count": 10,
     "metadata": {},
     "output_type": "execute_result"
    }
   ],
   "source": [
    "a + b"
   ]
  },
  {
   "cell_type": "code",
   "execution_count": 11,
   "id": "e169f6d4",
   "metadata": {},
   "outputs": [],
   "source": [
    "c = 'I love going hiking'"
   ]
  },
  {
   "cell_type": "code",
   "execution_count": 12,
   "id": "fd09c4e4",
   "metadata": {},
   "outputs": [
    {
     "ename": "SyntaxError",
     "evalue": "invalid syntax (4134419281.py, line 1)",
     "output_type": "error",
     "traceback": [
      "\u001b[1;36m  Cell \u001b[1;32mIn[12], line 1\u001b[1;36m\u001b[0m\n\u001b[1;33m    d = ' in the forests near ' a + b\u001b[0m\n\u001b[1;37m                                ^\u001b[0m\n\u001b[1;31mSyntaxError\u001b[0m\u001b[1;31m:\u001b[0m invalid syntax\n"
     ]
    }
   ],
   "source": [
    "d = ' in the forests near ' a + b"
   ]
  },
  {
   "cell_type": "code",
   "execution_count": 13,
   "id": "aed1e1b5",
   "metadata": {},
   "outputs": [],
   "source": [
    "d = ' in the forests near '\"\""
   ]
  },
  {
   "cell_type": "code",
   "execution_count": 14,
   "id": "eeedd79a",
   "metadata": {},
   "outputs": [],
   "source": [
    "e = a + b + d"
   ]
  },
  {
   "cell_type": "code",
   "execution_count": 15,
   "id": "e7610e9c",
   "metadata": {},
   "outputs": [
    {
     "data": {
      "text/plain": [
       "'I love going hikingPortland in the forests near '"
      ]
     },
     "execution_count": 15,
     "metadata": {},
     "output_type": "execute_result"
    }
   ],
   "source": [
    "c + e"
   ]
  },
  {
   "cell_type": "code",
   "execution_count": 16,
   "id": "b83f0e04",
   "metadata": {},
   "outputs": [],
   "source": [
    "e = d + a + b"
   ]
  },
  {
   "cell_type": "code",
   "execution_count": 17,
   "id": "08eca5bf",
   "metadata": {},
   "outputs": [
    {
     "data": {
      "text/plain": [
       "'I love going hiking in the forests near Portland'"
      ]
     },
     "execution_count": 17,
     "metadata": {},
     "output_type": "execute_result"
    }
   ],
   "source": [
    "c + e"
   ]
  },
  {
   "cell_type": "code",
   "execution_count": 18,
   "id": "a9661256",
   "metadata": {},
   "outputs": [],
   "source": [
    "f = '. They are special '"
   ]
  },
  {
   "cell_type": "code",
   "execution_count": 19,
   "id": "fca5a116",
   "metadata": {},
   "outputs": [],
   "source": [
    "g = 'because there are ancient trees.'"
   ]
  },
  {
   "cell_type": "code",
   "execution_count": 20,
   "id": "833c9369",
   "metadata": {},
   "outputs": [],
   "source": [
    "h = c + e"
   ]
  },
  {
   "cell_type": "code",
   "execution_count": 21,
   "id": "4ef1ee65",
   "metadata": {},
   "outputs": [
    {
     "data": {
      "text/plain": [
       "'I love going hiking in the forests near Portland. They are special because there are ancient trees.'"
      ]
     },
     "execution_count": 21,
     "metadata": {},
     "output_type": "execute_result"
    }
   ],
   "source": [
    "h + f + g"
   ]
  },
  {
   "cell_type": "code",
   "execution_count": null,
   "id": "96e8e31d",
   "metadata": {},
   "outputs": [],
   "source": []
  }
 ],
 "metadata": {
  "kernelspec": {
   "display_name": "Python 3 (ipykernel)",
   "language": "python",
   "name": "python3"
  },
  "language_info": {
   "codemirror_mode": {
    "name": "ipython",
    "version": 3
   },
   "file_extension": ".py",
   "mimetype": "text/x-python",
   "name": "python",
   "nbconvert_exporter": "python",
   "pygments_lexer": "ipython3",
   "version": "3.10.9"
  }
 },
 "nbformat": 4,
 "nbformat_minor": 5
}
